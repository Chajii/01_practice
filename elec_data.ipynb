{
 "cells": [
  {
   "cell_type": "code",
   "execution_count": 36,
   "metadata": {},
   "outputs": [],
   "source": [
    "import pandas as pd\n",
    "import numpy as np\n",
    "import re\n",
    "import pandas as pd\n",
    "import csv"
   ]
  },
  {
   "cell_type": "code",
   "execution_count": 37,
   "metadata": {},
   "outputs": [],
   "source": [
    "from plotnine import *\n",
    "import folium"
   ]
  },
  {
   "cell_type": "code",
   "execution_count": 38,
   "metadata": {},
   "outputs": [],
   "source": [
    "import matplotlib as mpl \n",
    "import matplotlib.pyplot as plt\n",
    "# 그래프 그리는 모듈 matplotlib.pyplot\n",
    "\n",
    "%matplotlib inline\n",
    "# 그래프의 결과를  출력 세션에 나타나게 하는 설정"
   ]
  },
  {
   "cell_type": "code",
   "execution_count": 69,
   "metadata": {
    "scrolled": true
   },
   "outputs": [],
   "source": [
    "# 한글 폰트 설정\n",
    "\n",
    "import platform\n",
    "from matplotlib import font_manager, rc\n",
    "plt.rcParams['axes.unicode_minus'] = False\n",
    "\n",
    "if platform.system() == 'Windows' :\n",
    "    path = \"C:/Windows/Fonts/malgun.ttf\"\n",
    "    font_name = font_manager.FontProperties(fname=path).get_name()\n",
    "else :\n",
    "    print(\"Nope\")\n",
    "    \n",
    "font_name = mpl.font_manager.FontProperties(fname='C:/Windows/Fonts/malgun.ttf').get_name()\n",
    "mpl.rc('font', family=font_name)"
   ]
  },
  {
   "cell_type": "markdown",
   "metadata": {},
   "source": [
    "# '계약종별 전력사용량 (월별)' 파일 읽기"
   ]
  },
  {
   "cell_type": "code",
   "execution_count": 40,
   "metadata": {},
   "outputs": [
    {
     "data": {
      "text/html": [
       "<div>\n",
       "<style scoped>\n",
       "    .dataframe tbody tr th:only-of-type {\n",
       "        vertical-align: middle;\n",
       "    }\n",
       "\n",
       "    .dataframe tbody tr th {\n",
       "        vertical-align: top;\n",
       "    }\n",
       "\n",
       "    .dataframe thead th {\n",
       "        text-align: right;\n",
       "    }\n",
       "</style>\n",
       "<table border=\"1\" class=\"dataframe\">\n",
       "  <thead>\n",
       "    <tr style=\"text-align: right;\">\n",
       "      <th></th>\n",
       "      <th>년월</th>\n",
       "      <th>시구</th>\n",
       "      <th>시군구</th>\n",
       "      <th>계약구분</th>\n",
       "      <th>고객호수(호)</th>\n",
       "      <th>사용량(kWh)</th>\n",
       "      <th>전기요금(원)</th>\n",
       "      <th>평균판매단가(원/kWh)</th>\n",
       "    </tr>\n",
       "  </thead>\n",
       "  <tbody>\n",
       "    <tr>\n",
       "      <th>0</th>\n",
       "      <td>201812</td>\n",
       "      <td>강원도</td>\n",
       "      <td>전체</td>\n",
       "      <td>가로등</td>\n",
       "      <td>115,339</td>\n",
       "      <td>17,303,418</td>\n",
       "      <td>1,869,861,015</td>\n",
       "      <td>108.1</td>\n",
       "    </tr>\n",
       "    <tr>\n",
       "      <th>1</th>\n",
       "      <td>201812</td>\n",
       "      <td>강원도</td>\n",
       "      <td>전체</td>\n",
       "      <td>교육용</td>\n",
       "      <td>1,056</td>\n",
       "      <td>37,950,053</td>\n",
       "      <td>3,793,940,491</td>\n",
       "      <td>100.0</td>\n",
       "    </tr>\n",
       "    <tr>\n",
       "      <th>2</th>\n",
       "      <td>201812</td>\n",
       "      <td>강원도</td>\n",
       "      <td>전체</td>\n",
       "      <td>농사용</td>\n",
       "      <td>103,185</td>\n",
       "      <td>54,322,167</td>\n",
       "      <td>2,781,537,853</td>\n",
       "      <td>51.2</td>\n",
       "    </tr>\n",
       "    <tr>\n",
       "      <th>3</th>\n",
       "      <td>201812</td>\n",
       "      <td>강원도</td>\n",
       "      <td>전체</td>\n",
       "      <td>산업용</td>\n",
       "      <td>13,602</td>\n",
       "      <td>606,504,952</td>\n",
       "      <td>69,111,240,315</td>\n",
       "      <td>114.0</td>\n",
       "    </tr>\n",
       "    <tr>\n",
       "      <th>4</th>\n",
       "      <td>201812</td>\n",
       "      <td>강원도</td>\n",
       "      <td>전체</td>\n",
       "      <td>심 야</td>\n",
       "      <td>90,856</td>\n",
       "      <td>202,859,645</td>\n",
       "      <td>15,192,211,176</td>\n",
       "      <td>74.9</td>\n",
       "    </tr>\n",
       "  </tbody>\n",
       "</table>\n",
       "</div>"
      ],
      "text/plain": [
       "       년월   시구 시군구 계약구분   고객호수(호)      사용량(kWh)          전기요금(원)  \\\n",
       "0  201812  강원도  전체  가로등  115,339    17,303,418    1,869,861,015    \n",
       "1  201812  강원도  전체  교육용    1,056    37,950,053    3,793,940,491    \n",
       "2  201812  강원도  전체  농사용  103,185    54,322,167    2,781,537,853    \n",
       "3  201812  강원도  전체  산업용   13,602   606,504,952   69,111,240,315    \n",
       "4  201812  강원도  전체  심 야   90,856   202,859,645   15,192,211,176    \n",
       "\n",
       "   평균판매단가(원/kWh)  \n",
       "0          108.1  \n",
       "1          100.0  \n",
       "2           51.2  \n",
       "3          114.0  \n",
       "4           74.9  "
      ]
     },
     "execution_count": 40,
     "metadata": {},
     "output_type": "execute_result"
    }
   ],
   "source": [
    "df = pd.read_excel('power usage by contract type.xls',\n",
    "                   header = 13,\n",
    "                  encoding='utf-8')\n",
    "\n",
    "df.head()"
   ]
  },
  {
   "cell_type": "markdown",
   "metadata": {},
   "source": [
    "무의미한 컬럼 정리"
   ]
  },
  {
   "cell_type": "code",
   "execution_count": 41,
   "metadata": {},
   "outputs": [
    {
     "data": {
      "text/html": [
       "<div>\n",
       "<style scoped>\n",
       "    .dataframe tbody tr th:only-of-type {\n",
       "        vertical-align: middle;\n",
       "    }\n",
       "\n",
       "    .dataframe tbody tr th {\n",
       "        vertical-align: top;\n",
       "    }\n",
       "\n",
       "    .dataframe thead th {\n",
       "        text-align: right;\n",
       "    }\n",
       "</style>\n",
       "<table border=\"1\" class=\"dataframe\">\n",
       "  <thead>\n",
       "    <tr style=\"text-align: right;\">\n",
       "      <th></th>\n",
       "      <th>시구</th>\n",
       "      <th>계약구분</th>\n",
       "      <th>고객호수(호)</th>\n",
       "      <th>사용량(kWh)</th>\n",
       "      <th>전기요금(원)</th>\n",
       "    </tr>\n",
       "  </thead>\n",
       "  <tbody>\n",
       "    <tr>\n",
       "      <th>0</th>\n",
       "      <td>강원도</td>\n",
       "      <td>가로등</td>\n",
       "      <td>115,339</td>\n",
       "      <td>17,303,418</td>\n",
       "      <td>1,869,861,015</td>\n",
       "    </tr>\n",
       "    <tr>\n",
       "      <th>1</th>\n",
       "      <td>강원도</td>\n",
       "      <td>교육용</td>\n",
       "      <td>1,056</td>\n",
       "      <td>37,950,053</td>\n",
       "      <td>3,793,940,491</td>\n",
       "    </tr>\n",
       "    <tr>\n",
       "      <th>2</th>\n",
       "      <td>강원도</td>\n",
       "      <td>농사용</td>\n",
       "      <td>103,185</td>\n",
       "      <td>54,322,167</td>\n",
       "      <td>2,781,537,853</td>\n",
       "    </tr>\n",
       "    <tr>\n",
       "      <th>3</th>\n",
       "      <td>강원도</td>\n",
       "      <td>산업용</td>\n",
       "      <td>13,602</td>\n",
       "      <td>606,504,952</td>\n",
       "      <td>69,111,240,315</td>\n",
       "    </tr>\n",
       "    <tr>\n",
       "      <th>4</th>\n",
       "      <td>강원도</td>\n",
       "      <td>심 야</td>\n",
       "      <td>90,856</td>\n",
       "      <td>202,859,645</td>\n",
       "      <td>15,192,211,176</td>\n",
       "    </tr>\n",
       "  </tbody>\n",
       "</table>\n",
       "</div>"
      ],
      "text/plain": [
       "    시구 계약구분   고객호수(호)      사용량(kWh)          전기요금(원)\n",
       "0  강원도  가로등  115,339    17,303,418    1,869,861,015 \n",
       "1  강원도  교육용    1,056    37,950,053    3,793,940,491 \n",
       "2  강원도  농사용  103,185    54,322,167    2,781,537,853 \n",
       "3  강원도  산업용   13,602   606,504,952   69,111,240,315 \n",
       "4  강원도  심 야   90,856   202,859,645   15,192,211,176 "
      ]
     },
     "execution_count": 41,
     "metadata": {},
     "output_type": "execute_result"
    }
   ],
   "source": [
    "del df['년월']\n",
    "del df['시군구']\n",
    "del df['평균판매단가(원/kWh)']\n",
    "df.head()"
   ]
  },
  {
   "cell_type": "code",
   "execution_count": 42,
   "metadata": {},
   "outputs": [
    {
     "data": {
      "text/html": [
       "<div>\n",
       "<style scoped>\n",
       "    .dataframe tbody tr th:only-of-type {\n",
       "        vertical-align: middle;\n",
       "    }\n",
       "\n",
       "    .dataframe tbody tr th {\n",
       "        vertical-align: top;\n",
       "    }\n",
       "\n",
       "    .dataframe thead th {\n",
       "        text-align: right;\n",
       "    }\n",
       "</style>\n",
       "<table border=\"1\" class=\"dataframe\">\n",
       "  <thead>\n",
       "    <tr style=\"text-align: right;\">\n",
       "      <th></th>\n",
       "      <th>시구</th>\n",
       "      <th>계약구분</th>\n",
       "      <th>고객호수(호)</th>\n",
       "      <th>사용량(kWh)</th>\n",
       "      <th>전기요금(원)</th>\n",
       "    </tr>\n",
       "  </thead>\n",
       "  <tbody>\n",
       "    <tr>\n",
       "      <th>135</th>\n",
       "      <td>충청북도</td>\n",
       "      <td>합계</td>\n",
       "      <td>1,065,629</td>\n",
       "      <td>2,333,639,535</td>\n",
       "      <td>260,938,704,494</td>\n",
       "    </tr>\n",
       "    <tr>\n",
       "      <th>136</th>\n",
       "      <td>황해북도</td>\n",
       "      <td>산업용</td>\n",
       "      <td>4</td>\n",
       "      <td>183,066</td>\n",
       "      <td>26,747,173</td>\n",
       "    </tr>\n",
       "    <tr>\n",
       "      <th>137</th>\n",
       "      <td>황해북도</td>\n",
       "      <td>일반용</td>\n",
       "      <td>9</td>\n",
       "      <td>344,108</td>\n",
       "      <td>46,073,444</td>\n",
       "    </tr>\n",
       "    <tr>\n",
       "      <th>138</th>\n",
       "      <td>황해북도</td>\n",
       "      <td>주택용</td>\n",
       "      <td>1</td>\n",
       "      <td>10,634</td>\n",
       "      <td>1,014,628</td>\n",
       "    </tr>\n",
       "    <tr>\n",
       "      <th>139</th>\n",
       "      <td>황해북도</td>\n",
       "      <td>합계</td>\n",
       "      <td>14</td>\n",
       "      <td>537,808</td>\n",
       "      <td>73,835,245</td>\n",
       "    </tr>\n",
       "  </tbody>\n",
       "</table>\n",
       "</div>"
      ],
      "text/plain": [
       "       시구 계약구분     고객호수(호)        사용량(kWh)           전기요금(원)\n",
       "135  충청북도   합계  1,065,629   2,333,639,535   260,938,704,494 \n",
       "136  황해북도  산업용          4         183,066        26,747,173 \n",
       "137  황해북도  일반용          9         344,108        46,073,444 \n",
       "138  황해북도  주택용          1          10,634         1,014,628 \n",
       "139  황해북도   합계         14         537,808        73,835,245 "
      ]
     },
     "execution_count": 42,
     "metadata": {},
     "output_type": "execute_result"
    }
   ],
   "source": [
    "df.tail()"
   ]
  },
  {
   "cell_type": "code",
   "execution_count": 43,
   "metadata": {},
   "outputs": [
    {
     "data": {
      "text/plain": [
       "시구          0\n",
       "계약구분        0\n",
       "고객호수(호)     0\n",
       "사용량(kWh)    0\n",
       "전기요금(원)     0\n",
       "dtype: int64"
      ]
     },
     "execution_count": 43,
     "metadata": {},
     "output_type": "execute_result"
    }
   ],
   "source": [
    "# 결측치 여부 확인\n",
    "\n",
    "df.isnull().sum()\n",
    "\n",
    "# 결측지 없음"
   ]
  },
  {
   "cell_type": "markdown",
   "metadata": {},
   "source": [
    "object type 에서 int type 으로 변경해주기"
   ]
  },
  {
   "cell_type": "code",
   "execution_count": 44,
   "metadata": {},
   "outputs": [],
   "source": [
    "def find_int(count):\n",
    "    i = (re.findall(r'\\d+', count))\n",
    "    ints = int(''.join(map(str, i)))\n",
    "    return ints"
   ]
  },
  {
   "cell_type": "code",
   "execution_count": 45,
   "metadata": {},
   "outputs": [],
   "source": [
    "df['고객호수(호)']= df['고객호수(호)'].map(find_int)\n",
    "df['사용량(kWh)']= df['사용량(kWh)'].map(find_int)\n",
    "df['전기요금(원)']= df['전기요금(원)'].map(find_int)"
   ]
  },
  {
   "cell_type": "code",
   "execution_count": 46,
   "metadata": {},
   "outputs": [
    {
     "data": {
      "text/html": [
       "<div>\n",
       "<style scoped>\n",
       "    .dataframe tbody tr th:only-of-type {\n",
       "        vertical-align: middle;\n",
       "    }\n",
       "\n",
       "    .dataframe tbody tr th {\n",
       "        vertical-align: top;\n",
       "    }\n",
       "\n",
       "    .dataframe thead th {\n",
       "        text-align: right;\n",
       "    }\n",
       "</style>\n",
       "<table border=\"1\" class=\"dataframe\">\n",
       "  <thead>\n",
       "    <tr style=\"text-align: right;\">\n",
       "      <th></th>\n",
       "      <th>시구</th>\n",
       "      <th>계약구분</th>\n",
       "      <th>고객호수(호)</th>\n",
       "      <th>사용량(kWh)</th>\n",
       "      <th>전기요금(원)</th>\n",
       "    </tr>\n",
       "  </thead>\n",
       "  <tbody>\n",
       "    <tr>\n",
       "      <th>0</th>\n",
       "      <td>강원도</td>\n",
       "      <td>가로등</td>\n",
       "      <td>115339</td>\n",
       "      <td>17303418</td>\n",
       "      <td>1869861015</td>\n",
       "    </tr>\n",
       "    <tr>\n",
       "      <th>1</th>\n",
       "      <td>강원도</td>\n",
       "      <td>교육용</td>\n",
       "      <td>1056</td>\n",
       "      <td>37950053</td>\n",
       "      <td>3793940491</td>\n",
       "    </tr>\n",
       "    <tr>\n",
       "      <th>2</th>\n",
       "      <td>강원도</td>\n",
       "      <td>농사용</td>\n",
       "      <td>103185</td>\n",
       "      <td>54322167</td>\n",
       "      <td>2781537853</td>\n",
       "    </tr>\n",
       "    <tr>\n",
       "      <th>3</th>\n",
       "      <td>강원도</td>\n",
       "      <td>산업용</td>\n",
       "      <td>13602</td>\n",
       "      <td>606504952</td>\n",
       "      <td>69111240315</td>\n",
       "    </tr>\n",
       "    <tr>\n",
       "      <th>4</th>\n",
       "      <td>강원도</td>\n",
       "      <td>심 야</td>\n",
       "      <td>90856</td>\n",
       "      <td>202859645</td>\n",
       "      <td>15192211176</td>\n",
       "    </tr>\n",
       "  </tbody>\n",
       "</table>\n",
       "</div>"
      ],
      "text/plain": [
       "    시구 계약구분  고객호수(호)   사용량(kWh)      전기요금(원)\n",
       "0  강원도  가로등   115339   17303418   1869861015\n",
       "1  강원도  교육용     1056   37950053   3793940491\n",
       "2  강원도  농사용   103185   54322167   2781537853\n",
       "3  강원도  산업용    13602  606504952  69111240315\n",
       "4  강원도  심 야    90856  202859645  15192211176"
      ]
     },
     "execution_count": 46,
     "metadata": {},
     "output_type": "execute_result"
    }
   ],
   "source": [
    "df.head()"
   ]
  },
  {
   "cell_type": "code",
   "execution_count": 62,
   "metadata": {},
   "outputs": [
    {
     "data": {
      "image/png": "[encoded data removed]",
      "text/plain": [
       "<Figure size 800x400 with 1 Axes>"
      ]
     },
     "metadata": {},
     "output_type": "display_data"
    },
    {
     "data": {
      "text/plain": [
       "<ggplot: (-9223371914271932742)>"
      ]
     },
     "execution_count": 62,
     "metadata": {},
     "output_type": "execute_result"
    }
   ],
   "source": [
    "(ggplot(df)\n",
    " + aes(x='시구', y='사용량(kWh)')\n",
    " + geom_bar(stat='identity', position='dodge')\n",
    " + ggtitle('시구별 사용량')\n",
    " + theme(text=element_text(family='NanumBarunGothic'),\n",
    "        axis_text_x=element_text(rotation=60), \n",
    "        figure_size=(8, 4))\n",
    ")"
   ]
  },
  {
   "cell_type": "markdown",
   "metadata": {},
   "source": [
    "# Group by"
   ]
  },
  {
   "cell_type": "code",
   "execution_count": 57,
   "metadata": {
    "scrolled": false
   },
   "outputs": [
    {
     "data": {
      "text/html": [
       "<div>\n",
       "<style scoped>\n",
       "    .dataframe tbody tr th:only-of-type {\n",
       "        vertical-align: middle;\n",
       "    }\n",
       "\n",
       "    .dataframe tbody tr th {\n",
       "        vertical-align: top;\n",
       "    }\n",
       "\n",
       "    .dataframe thead th {\n",
       "        text-align: right;\n",
       "    }\n",
       "</style>\n",
       "<table border=\"1\" class=\"dataframe\">\n",
       "  <thead>\n",
       "    <tr style=\"text-align: right;\">\n",
       "      <th></th>\n",
       "      <th>고객호수(호)</th>\n",
       "      <th>총사용량(kWh)</th>\n",
       "      <th>전기요금(원)</th>\n",
       "    </tr>\n",
       "    <tr>\n",
       "      <th>시구</th>\n",
       "      <th></th>\n",
       "      <th></th>\n",
       "      <th></th>\n",
       "    </tr>\n",
       "  </thead>\n",
       "  <tbody>\n",
       "    <tr>\n",
       "      <th>강원도</th>\n",
       "      <td>2124000</td>\n",
       "      <td>3034951718</td>\n",
       "      <td>335947078724</td>\n",
       "    </tr>\n",
       "    <tr>\n",
       "      <th>경기도</th>\n",
       "      <td>8965568</td>\n",
       "      <td>21425768930</td>\n",
       "      <td>2501297523692</td>\n",
       "    </tr>\n",
       "    <tr>\n",
       "      <th>경상남도</th>\n",
       "      <td>3778348</td>\n",
       "      <td>6142629324</td>\n",
       "      <td>705407488164</td>\n",
       "    </tr>\n",
       "    <tr>\n",
       "      <th>경상북도</th>\n",
       "      <td>4031450</td>\n",
       "      <td>8033177162</td>\n",
       "      <td>874076966568</td>\n",
       "    </tr>\n",
       "    <tr>\n",
       "      <th>광주광역시</th>\n",
       "      <td>1090960</td>\n",
       "      <td>1433621406</td>\n",
       "      <td>174241618204</td>\n",
       "    </tr>\n",
       "    <tr>\n",
       "      <th>대구광역시</th>\n",
       "      <td>1882796</td>\n",
       "      <td>2640241900</td>\n",
       "      <td>317728492152</td>\n",
       "    </tr>\n",
       "    <tr>\n",
       "      <th>대전광역시</th>\n",
       "      <td>1169706</td>\n",
       "      <td>1600092064</td>\n",
       "      <td>189825341252</td>\n",
       "    </tr>\n",
       "    <tr>\n",
       "      <th>부산광역시</th>\n",
       "      <td>2564390</td>\n",
       "      <td>3447113542</td>\n",
       "      <td>425735246164</td>\n",
       "    </tr>\n",
       "    <tr>\n",
       "      <th>서울특별시</th>\n",
       "      <td>7210600</td>\n",
       "      <td>7898475280</td>\n",
       "      <td>993033578144</td>\n",
       "    </tr>\n",
       "    <tr>\n",
       "      <th>세종특별자치시</th>\n",
       "      <td>184652</td>\n",
       "      <td>547424898</td>\n",
       "      <td>62433220486</td>\n",
       "    </tr>\n",
       "    <tr>\n",
       "      <th>울산광역시</th>\n",
       "      <td>930134</td>\n",
       "      <td>5918819648</td>\n",
       "      <td>619550461988</td>\n",
       "    </tr>\n",
       "    <tr>\n",
       "      <th>인천광역시</th>\n",
       "      <td>2041310</td>\n",
       "      <td>4293138366</td>\n",
       "      <td>511854644574</td>\n",
       "    </tr>\n",
       "    <tr>\n",
       "      <th>전라남도</th>\n",
       "      <td>2846412</td>\n",
       "      <td>5584702050</td>\n",
       "      <td>574014601434</td>\n",
       "    </tr>\n",
       "    <tr>\n",
       "      <th>전라북도</th>\n",
       "      <td>2386678</td>\n",
       "      <td>3955529784</td>\n",
       "      <td>423298599582</td>\n",
       "    </tr>\n",
       "    <tr>\n",
       "      <th>제주특별자치도</th>\n",
       "      <td>884668</td>\n",
       "      <td>866390494</td>\n",
       "      <td>90746825008</td>\n",
       "    </tr>\n",
       "    <tr>\n",
       "      <th>충청남도</th>\n",
       "      <td>2780126</td>\n",
       "      <td>9145339682</td>\n",
       "      <td>995369423170</td>\n",
       "    </tr>\n",
       "    <tr>\n",
       "      <th>충청북도</th>\n",
       "      <td>2131258</td>\n",
       "      <td>4667279070</td>\n",
       "      <td>521877408988</td>\n",
       "    </tr>\n",
       "    <tr>\n",
       "      <th>황해북도</th>\n",
       "      <td>28</td>\n",
       "      <td>1075616</td>\n",
       "      <td>147670490</td>\n",
       "    </tr>\n",
       "  </tbody>\n",
       "</table>\n",
       "</div>"
      ],
      "text/plain": [
       "         고객호수(호)    총사용량(kWh)        전기요금(원)\n",
       "시구                                          \n",
       "강원도      2124000   3034951718   335947078724\n",
       "경기도      8965568  21425768930  2501297523692\n",
       "경상남도     3778348   6142629324   705407488164\n",
       "경상북도     4031450   8033177162   874076966568\n",
       "광주광역시    1090960   1433621406   174241618204\n",
       "대구광역시    1882796   2640241900   317728492152\n",
       "대전광역시    1169706   1600092064   189825341252\n",
       "부산광역시    2564390   3447113542   425735246164\n",
       "서울특별시    7210600   7898475280   993033578144\n",
       "세종특별자치시   184652    547424898    62433220486\n",
       "울산광역시     930134   5918819648   619550461988\n",
       "인천광역시    2041310   4293138366   511854644574\n",
       "전라남도     2846412   5584702050   574014601434\n",
       "전라북도     2386678   3955529784   423298599582\n",
       "제주특별자치도   884668    866390494    90746825008\n",
       "충청남도     2780126   9145339682   995369423170\n",
       "충청북도     2131258   4667279070   521877408988\n",
       "황해북도          28      1075616      147670490"
      ]
     },
     "execution_count": 57,
     "metadata": {},
     "output_type": "execute_result"
    }
   ],
   "source": [
    "group = pd.DataFrame(df.groupby(['시구']).sum())\n",
    "group.rename(columns={'사용량(kWh)' : '총사용량(kWh)'}, \n",
    "                   inplace=True)\n",
    "group\n",
    "\n",
    "#18개의 시구 존재"
   ]
  },
  {
   "cell_type": "markdown",
   "metadata": {},
   "source": [
    "지역별 총사용량"
   ]
  },
  {
   "cell_type": "code",
   "execution_count": 55,
   "metadata": {},
   "outputs": [],
   "source": [
    "amount_used=pd.DataFrame(df.groupby(['시구'])['사용량(kWh)'].sum())\n",
    "amount_used.rename(columns={'사용량(kWh)' : '총사용량(kWh)'}, \n",
    "                   inplace=True)"
   ]
  },
  {
   "cell_type": "code",
   "execution_count": 56,
   "metadata": {
    "scrolled": false
   },
   "outputs": [
    {
     "data": {
      "text/html": [
       "<div>\n",
       "<style scoped>\n",
       "    .dataframe tbody tr th:only-of-type {\n",
       "        vertical-align: middle;\n",
       "    }\n",
       "\n",
       "    .dataframe tbody tr th {\n",
       "        vertical-align: top;\n",
       "    }\n",
       "\n",
       "    .dataframe thead th {\n",
       "        text-align: right;\n",
       "    }\n",
       "</style>\n",
       "<table border=\"1\" class=\"dataframe\">\n",
       "  <thead>\n",
       "    <tr style=\"text-align: right;\">\n",
       "      <th></th>\n",
       "      <th>총사용량(kWh)</th>\n",
       "    </tr>\n",
       "    <tr>\n",
       "      <th>시구</th>\n",
       "      <th></th>\n",
       "    </tr>\n",
       "  </thead>\n",
       "  <tbody>\n",
       "    <tr>\n",
       "      <th>강원도</th>\n",
       "      <td>3034951718</td>\n",
       "    </tr>\n",
       "    <tr>\n",
       "      <th>경기도</th>\n",
       "      <td>21425768930</td>\n",
       "    </tr>\n",
       "    <tr>\n",
       "      <th>경상남도</th>\n",
       "      <td>6142629324</td>\n",
       "    </tr>\n",
       "    <tr>\n",
       "      <th>경상북도</th>\n",
       "      <td>8033177162</td>\n",
       "    </tr>\n",
       "    <tr>\n",
       "      <th>광주광역시</th>\n",
       "      <td>1433621406</td>\n",
       "    </tr>\n",
       "    <tr>\n",
       "      <th>대구광역시</th>\n",
       "      <td>2640241900</td>\n",
       "    </tr>\n",
       "    <tr>\n",
       "      <th>대전광역시</th>\n",
       "      <td>1600092064</td>\n",
       "    </tr>\n",
       "    <tr>\n",
       "      <th>부산광역시</th>\n",
       "      <td>3447113542</td>\n",
       "    </tr>\n",
       "    <tr>\n",
       "      <th>서울특별시</th>\n",
       "      <td>7898475280</td>\n",
       "    </tr>\n",
       "    <tr>\n",
       "      <th>세종특별자치시</th>\n",
       "      <td>547424898</td>\n",
       "    </tr>\n",
       "    <tr>\n",
       "      <th>울산광역시</th>\n",
       "      <td>5918819648</td>\n",
       "    </tr>\n",
       "    <tr>\n",
       "      <th>인천광역시</th>\n",
       "      <td>4293138366</td>\n",
       "    </tr>\n",
       "    <tr>\n",
       "      <th>전라남도</th>\n",
       "      <td>5584702050</td>\n",
       "    </tr>\n",
       "    <tr>\n",
       "      <th>전라북도</th>\n",
       "      <td>3955529784</td>\n",
       "    </tr>\n",
       "    <tr>\n",
       "      <th>제주특별자치도</th>\n",
       "      <td>866390494</td>\n",
       "    </tr>\n",
       "    <tr>\n",
       "      <th>충청남도</th>\n",
       "      <td>9145339682</td>\n",
       "    </tr>\n",
       "    <tr>\n",
       "      <th>충청북도</th>\n",
       "      <td>4667279070</td>\n",
       "    </tr>\n",
       "    <tr>\n",
       "      <th>황해북도</th>\n",
       "      <td>1075616</td>\n",
       "    </tr>\n",
       "  </tbody>\n",
       "</table>\n",
       "</div>"
      ],
      "text/plain": [
       "           총사용량(kWh)\n",
       "시구                  \n",
       "강원도       3034951718\n",
       "경기도      21425768930\n",
       "경상남도      6142629324\n",
       "경상북도      8033177162\n",
       "광주광역시     1433621406\n",
       "대구광역시     2640241900\n",
       "대전광역시     1600092064\n",
       "부산광역시     3447113542\n",
       "서울특별시     7898475280\n",
       "세종특별자치시    547424898\n",
       "울산광역시     5918819648\n",
       "인천광역시     4293138366\n",
       "전라남도      5584702050\n",
       "전라북도      3955529784\n",
       "제주특별자치도    866390494\n",
       "충청남도      9145339682\n",
       "충청북도      4667279070\n",
       "황해북도         1075616"
      ]
     },
     "execution_count": 56,
     "metadata": {},
     "output_type": "execute_result"
    }
   ],
   "source": [
    "amount_used"
   ]
  },
  {
   "cell_type": "code",
   "execution_count": 63,
   "metadata": {
    "scrolled": true
   },
   "outputs": [
    {
     "data": {
      "text/html": [
       "<div>\n",
       "<style scoped>\n",
       "    .dataframe tbody tr th:only-of-type {\n",
       "        vertical-align: middle;\n",
       "    }\n",
       "\n",
       "    .dataframe tbody tr th {\n",
       "        vertical-align: top;\n",
       "    }\n",
       "\n",
       "    .dataframe thead th {\n",
       "        text-align: right;\n",
       "    }\n",
       "</style>\n",
       "<table border=\"1\" class=\"dataframe\">\n",
       "  <thead>\n",
       "    <tr style=\"text-align: right;\">\n",
       "      <th></th>\n",
       "      <th>총사용량(kWh)</th>\n",
       "    </tr>\n",
       "    <tr>\n",
       "      <th>시구</th>\n",
       "      <th></th>\n",
       "    </tr>\n",
       "  </thead>\n",
       "  <tbody>\n",
       "    <tr>\n",
       "      <th>황해북도</th>\n",
       "      <td>1075616</td>\n",
       "    </tr>\n",
       "    <tr>\n",
       "      <th>세종특별자치시</th>\n",
       "      <td>547424898</td>\n",
       "    </tr>\n",
       "    <tr>\n",
       "      <th>제주특별자치도</th>\n",
       "      <td>866390494</td>\n",
       "    </tr>\n",
       "    <tr>\n",
       "      <th>광주광역시</th>\n",
       "      <td>1433621406</td>\n",
       "    </tr>\n",
       "    <tr>\n",
       "      <th>대전광역시</th>\n",
       "      <td>1600092064</td>\n",
       "    </tr>\n",
       "  </tbody>\n",
       "</table>\n",
       "</div>"
      ],
      "text/plain": [
       "          총사용량(kWh)\n",
       "시구                 \n",
       "황해북도        1075616\n",
       "세종특별자치시   547424898\n",
       "제주특별자치도   866390494\n",
       "광주광역시    1433621406\n",
       "대전광역시    1600092064"
      ]
     },
     "execution_count": 63,
     "metadata": {},
     "output_type": "execute_result"
    }
   ],
   "source": [
    "# 총 사용량 순서로 보기\n",
    "\n",
    "amount_used.sort_values(by='총사용량(kWh)', ascending=True). head()"
   ]
  },
  {
   "cell_type": "code",
   "execution_count": 70,
   "metadata": {},
   "outputs": [
    {
     "data": {
      "text/plain": [
       "<matplotlib.axes._subplots.AxesSubplot at 0x1c8a828eda0>"
      ]
     },
     "execution_count": 70,
     "metadata": {},
     "output_type": "execute_result"
    },
    {
     "data": {
      "image/png": "[encoded data removed]",
      "text/plain": [
       "<Figure size 720x1440 with 1 Axes>"
      ]
     },
     "metadata": {
      "needs_background": "light"
     },
     "output_type": "display_data"
    }
   ],
   "source": [
    "amount_used.plot(kind='barh', grid=True, figsize = (10,20))"
   ]
  },
  {
   "cell_type": "markdown",
   "metadata": {},
   "source": [
    "지역별 총 고객호수"
   ]
  },
  {
   "cell_type": "code",
   "execution_count": 64,
   "metadata": {
    "scrolled": true
   },
   "outputs": [
    {
     "data": {
      "text/html": [
       "<div>\n",
       "<style scoped>\n",
       "    .dataframe tbody tr th:only-of-type {\n",
       "        vertical-align: middle;\n",
       "    }\n",
       "\n",
       "    .dataframe tbody tr th {\n",
       "        vertical-align: top;\n",
       "    }\n",
       "\n",
       "    .dataframe thead th {\n",
       "        text-align: right;\n",
       "    }\n",
       "</style>\n",
       "<table border=\"1\" class=\"dataframe\">\n",
       "  <thead>\n",
       "    <tr style=\"text-align: right;\">\n",
       "      <th></th>\n",
       "      <th>고객호수(호)</th>\n",
       "    </tr>\n",
       "    <tr>\n",
       "      <th>시구</th>\n",
       "      <th></th>\n",
       "    </tr>\n",
       "  </thead>\n",
       "  <tbody>\n",
       "    <tr>\n",
       "      <th>강원도</th>\n",
       "      <td>2124000</td>\n",
       "    </tr>\n",
       "    <tr>\n",
       "      <th>경기도</th>\n",
       "      <td>8965568</td>\n",
       "    </tr>\n",
       "    <tr>\n",
       "      <th>경상남도</th>\n",
       "      <td>3778348</td>\n",
       "    </tr>\n",
       "    <tr>\n",
       "      <th>경상북도</th>\n",
       "      <td>4031450</td>\n",
       "    </tr>\n",
       "    <tr>\n",
       "      <th>광주광역시</th>\n",
       "      <td>1090960</td>\n",
       "    </tr>\n",
       "    <tr>\n",
       "      <th>대구광역시</th>\n",
       "      <td>1882796</td>\n",
       "    </tr>\n",
       "    <tr>\n",
       "      <th>대전광역시</th>\n",
       "      <td>1169706</td>\n",
       "    </tr>\n",
       "    <tr>\n",
       "      <th>부산광역시</th>\n",
       "      <td>2564390</td>\n",
       "    </tr>\n",
       "    <tr>\n",
       "      <th>서울특별시</th>\n",
       "      <td>7210600</td>\n",
       "    </tr>\n",
       "    <tr>\n",
       "      <th>세종특별자치시</th>\n",
       "      <td>184652</td>\n",
       "    </tr>\n",
       "    <tr>\n",
       "      <th>울산광역시</th>\n",
       "      <td>930134</td>\n",
       "    </tr>\n",
       "    <tr>\n",
       "      <th>인천광역시</th>\n",
       "      <td>2041310</td>\n",
       "    </tr>\n",
       "    <tr>\n",
       "      <th>전라남도</th>\n",
       "      <td>2846412</td>\n",
       "    </tr>\n",
       "    <tr>\n",
       "      <th>전라북도</th>\n",
       "      <td>2386678</td>\n",
       "    </tr>\n",
       "    <tr>\n",
       "      <th>제주특별자치도</th>\n",
       "      <td>884668</td>\n",
       "    </tr>\n",
       "    <tr>\n",
       "      <th>충청남도</th>\n",
       "      <td>2780126</td>\n",
       "    </tr>\n",
       "    <tr>\n",
       "      <th>충청북도</th>\n",
       "      <td>2131258</td>\n",
       "    </tr>\n",
       "    <tr>\n",
       "      <th>황해북도</th>\n",
       "      <td>28</td>\n",
       "    </tr>\n",
       "  </tbody>\n",
       "</table>\n",
       "</div>"
      ],
      "text/plain": [
       "         고객호수(호)\n",
       "시구              \n",
       "강원도      2124000\n",
       "경기도      8965568\n",
       "경상남도     3778348\n",
       "경상북도     4031450\n",
       "광주광역시    1090960\n",
       "대구광역시    1882796\n",
       "대전광역시    1169706\n",
       "부산광역시    2564390\n",
       "서울특별시    7210600\n",
       "세종특별자치시   184652\n",
       "울산광역시     930134\n",
       "인천광역시    2041310\n",
       "전라남도     2846412\n",
       "전라북도     2386678\n",
       "제주특별자치도   884668\n",
       "충청남도     2780126\n",
       "충청북도     2131258\n",
       "황해북도          28"
      ]
     },
     "execution_count": 64,
     "metadata": {},
     "output_type": "execute_result"
    }
   ],
   "source": [
    "cus = pd.DataFrame(df.groupby(['시구'])['고객호수(호)'].sum())\n",
    "cus"
   ]
  },
  {
   "cell_type": "code",
   "execution_count": 71,
   "metadata": {},
   "outputs": [
    {
     "data": {
      "text/plain": [
       "<matplotlib.axes._subplots.AxesSubplot at 0x1c8a82cb630>"
      ]
     },
     "execution_count": 71,
     "metadata": {},
     "output_type": "execute_result"
    },
    {
     "data": {
      "image/png": "[encoded data removed]",
      "text/plain": [
       "<Figure size 720x1440 with 1 Axes>"
      ]
     },
     "metadata": {
      "needs_background": "light"
     },
     "output_type": "display_data"
    }
   ],
   "source": [
    "cus.plot(kind='barh', grid=True, figsize = (10,20))"
   ]
  },
  {
   "cell_type": "markdown",
   "metadata": {},
   "source": [
    "지역별 평균호수별 사용량"
   ]
  },
  {
   "cell_type": "code",
   "execution_count": 72,
   "metadata": {},
   "outputs": [
    {
     "data": {
      "text/html": [
       "<div>\n",
       "<style scoped>\n",
       "    .dataframe tbody tr th:only-of-type {\n",
       "        vertical-align: middle;\n",
       "    }\n",
       "\n",
       "    .dataframe tbody tr th {\n",
       "        vertical-align: top;\n",
       "    }\n",
       "\n",
       "    .dataframe thead th {\n",
       "        text-align: right;\n",
       "    }\n",
       "</style>\n",
       "<table border=\"1\" class=\"dataframe\">\n",
       "  <thead>\n",
       "    <tr style=\"text-align: right;\">\n",
       "      <th></th>\n",
       "      <th>고객호수(호)</th>\n",
       "      <th>사용량(kWh)</th>\n",
       "      <th>전기요금(원)</th>\n",
       "    </tr>\n",
       "    <tr>\n",
       "      <th>시구</th>\n",
       "      <th></th>\n",
       "      <th></th>\n",
       "      <th></th>\n",
       "    </tr>\n",
       "  </thead>\n",
       "  <tbody>\n",
       "    <tr>\n",
       "      <th>강원도</th>\n",
       "      <td>2124000</td>\n",
       "      <td>3034951718</td>\n",
       "      <td>335947078724</td>\n",
       "    </tr>\n",
       "    <tr>\n",
       "      <th>경기도</th>\n",
       "      <td>8965568</td>\n",
       "      <td>21425768930</td>\n",
       "      <td>2501297523692</td>\n",
       "    </tr>\n",
       "    <tr>\n",
       "      <th>경상남도</th>\n",
       "      <td>3778348</td>\n",
       "      <td>6142629324</td>\n",
       "      <td>705407488164</td>\n",
       "    </tr>\n",
       "    <tr>\n",
       "      <th>경상북도</th>\n",
       "      <td>4031450</td>\n",
       "      <td>8033177162</td>\n",
       "      <td>874076966568</td>\n",
       "    </tr>\n",
       "    <tr>\n",
       "      <th>광주광역시</th>\n",
       "      <td>1090960</td>\n",
       "      <td>1433621406</td>\n",
       "      <td>174241618204</td>\n",
       "    </tr>\n",
       "  </tbody>\n",
       "</table>\n",
       "</div>"
      ],
      "text/plain": [
       "       고객호수(호)     사용량(kWh)        전기요금(원)\n",
       "시구                                        \n",
       "강원도    2124000   3034951718   335947078724\n",
       "경기도    8965568  21425768930  2501297523692\n",
       "경상남도   3778348   6142629324   705407488164\n",
       "경상북도   4031450   8033177162   874076966568\n",
       "광주광역시  1090960   1433621406   174241618204"
      ]
     },
     "execution_count": 72,
     "metadata": {},
     "output_type": "execute_result"
    }
   ],
   "source": [
    "sum = pd.DataFrame(df.groupby(['시구']).sum())\n",
    "sum.head()"
   ]
  },
  {
   "cell_type": "code",
   "execution_count": 74,
   "metadata": {},
   "outputs": [
    {
     "data": {
      "text/html": [
       "<div>\n",
       "<style scoped>\n",
       "    .dataframe tbody tr th:only-of-type {\n",
       "        vertical-align: middle;\n",
       "    }\n",
       "\n",
       "    .dataframe tbody tr th {\n",
       "        vertical-align: top;\n",
       "    }\n",
       "\n",
       "    .dataframe thead th {\n",
       "        text-align: right;\n",
       "    }\n",
       "</style>\n",
       "<table border=\"1\" class=\"dataframe\">\n",
       "  <thead>\n",
       "    <tr style=\"text-align: right;\">\n",
       "      <th></th>\n",
       "      <th>고객호수(호)</th>\n",
       "      <th>사용량(kWh)</th>\n",
       "      <th>전기요금(원)</th>\n",
       "      <th>평균 호수별 사용량</th>\n",
       "    </tr>\n",
       "    <tr>\n",
       "      <th>시구</th>\n",
       "      <th></th>\n",
       "      <th></th>\n",
       "      <th></th>\n",
       "      <th></th>\n",
       "    </tr>\n",
       "  </thead>\n",
       "  <tbody>\n",
       "    <tr>\n",
       "      <th>강원도</th>\n",
       "      <td>2124000</td>\n",
       "      <td>3034951718</td>\n",
       "      <td>335947078724</td>\n",
       "      <td>1428.884990</td>\n",
       "    </tr>\n",
       "    <tr>\n",
       "      <th>경기도</th>\n",
       "      <td>8965568</td>\n",
       "      <td>21425768930</td>\n",
       "      <td>2501297523692</td>\n",
       "      <td>2389.783774</td>\n",
       "    </tr>\n",
       "    <tr>\n",
       "      <th>경상남도</th>\n",
       "      <td>3778348</td>\n",
       "      <td>6142629324</td>\n",
       "      <td>705407488164</td>\n",
       "      <td>1625.744723</td>\n",
       "    </tr>\n",
       "    <tr>\n",
       "      <th>경상북도</th>\n",
       "      <td>4031450</td>\n",
       "      <td>8033177162</td>\n",
       "      <td>874076966568</td>\n",
       "      <td>1992.627259</td>\n",
       "    </tr>\n",
       "    <tr>\n",
       "      <th>광주광역시</th>\n",
       "      <td>1090960</td>\n",
       "      <td>1433621406</td>\n",
       "      <td>174241618204</td>\n",
       "      <td>1314.091631</td>\n",
       "    </tr>\n",
       "  </tbody>\n",
       "</table>\n",
       "</div>"
      ],
      "text/plain": [
       "       고객호수(호)     사용량(kWh)        전기요금(원)   평균 호수별 사용량\n",
       "시구                                                     \n",
       "강원도    2124000   3034951718   335947078724  1428.884990\n",
       "경기도    8965568  21425768930  2501297523692  2389.783774\n",
       "경상남도   3778348   6142629324   705407488164  1625.744723\n",
       "경상북도   4031450   8033177162   874076966568  1992.627259\n",
       "광주광역시  1090960   1433621406   174241618204  1314.091631"
      ]
     },
     "execution_count": 74,
     "metadata": {},
     "output_type": "execute_result"
    }
   ],
   "source": [
    "sum['평균 호수별 사용량'] = sum['사용량(kWh)'] / sum['고객호수(호)']\n",
    "sum.head()"
   ]
  },
  {
   "cell_type": "code",
   "execution_count": 75,
   "metadata": {},
   "outputs": [
    {
     "data": {
      "text/plain": [
       "<matplotlib.axes._subplots.AxesSubplot at 0x1c8a97cabe0>"
      ]
     },
     "execution_count": 75,
     "metadata": {},
     "output_type": "execute_result"
    },
    {
     "data": {
      "image/png": "[encoded data removed]",
      "text/plain": [
       "<Figure size 720x1440 with 1 Axes>"
      ]
     },
     "metadata": {
      "needs_background": "light"
     },
     "output_type": "display_data"
    }
   ],
   "source": [
    "sum['평균 호수별 사용량'].plot(kind='barh', grid=True, figsize = (10,20))"
   ]
  },
  {
   "cell_type": "code",
   "execution_count": null,
   "metadata": {},
   "outputs": [],
   "source": []
  }
 ],
 "metadata": {
  "kernelspec": {
   "display_name": "Python 3",
   "language": "python",
   "name": "python3"
  },
  "language_info": {
   "codemirror_mode": {
    "name": "ipython",
    "version": 3
   },
   "file_extension": ".py",
   "mimetype": "text/x-python",
   "name": "python",
   "nbconvert_exporter": "python",
   "pygments_lexer": "ipython3",
   "version": "3.7.1"
  }
 },
 "nbformat": 4,
 "nbformat_minor": 2
}
